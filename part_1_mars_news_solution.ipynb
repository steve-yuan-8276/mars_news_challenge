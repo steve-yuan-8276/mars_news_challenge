{
 "cells": [
  {
   "metadata": {},
   "cell_type": "markdown",
   "source": [
    "# Module 11 Challenge\n",
    "## Deliverable 1: Scrape Titles and Preview Text from Mars News"
   ],
   "id": "df0c2681c31d8e8e"
  },
  {
   "metadata": {
    "ExecuteTime": {
     "end_time": "2024-07-25T15:55:38.213353Z",
     "start_time": "2024-07-25T15:55:38.210201Z"
    }
   },
   "cell_type": "code",
   "source": [
    "# Import Splinter and BeautifulSoup\n",
    "from splinter import Browser\n",
    "from bs4 import BeautifulSoup\n",
    "from selenium.webdriver.chrome.service import Service as ChromeService\n",
    "from selenium.webdriver.chrome.options import Options\n",
    "import json  # for importing data into json file "
   ],
   "id": "89ca6c208359cf70",
   "outputs": [],
   "execution_count": 12
  },
  {
   "metadata": {
    "ExecuteTime": {
     "end_time": "2024-07-25T15:49:20.627297Z",
     "start_time": "2024-07-25T15:49:17.065030Z"
    }
   },
   "cell_type": "code",
   "source": [
    "# Due to software environments issues, this is only way to run splinter on my  computer.\n",
    "# Set the chromeDriver path\n",
    "chromedriver_path = '/usr/local/bin/chromedriver'\n",
    "\n",
    "# Configure Chrome options\n",
    "options = Options()\n",
    "options.headless = True  # use headless mode\n",
    "\n",
    "# Set up ChromeDriver service\n",
    "service = ChromeService(executable_path=chromedriver_path)\n",
    "\n",
    "# Open a Chrome window using Splinter\n",
    "browser = Browser('chrome', options=options, service=service)"
   ],
   "id": "8095ced3cf4bd554",
   "outputs": [],
   "execution_count": 2
  },
  {
   "metadata": {},
   "cell_type": "markdown",
   "source": [
    "### Step 1: Visit the Website\n",
    "\n",
    "1. Use automated browsing to visit the [Mars news site](https://static.bc-edx.com/data/web/mars_news/index.html). Inspect the page to identify which elements to scrape.\n",
    "\n",
    "> **Hint** To identify which elements to scrape, you might want to inspect the page by using Chrome DevTools."
   ],
   "id": "96af8277d3698ba0"
  },
  {
   "metadata": {
    "ExecuteTime": {
     "end_time": "2024-07-25T15:49:55.438499Z",
     "start_time": "2024-07-25T15:49:53.507537Z"
    }
   },
   "cell_type": "code",
   "source": [
    "# Visit the Mars news site\n",
    "url = 'https://static.bc-edx.com/data/web/mars_news/index.html'\n",
    "browser.visit(url)\n",
    "\n",
    "# Optional delay for loading the page\n",
    "browser.is_element_present_by_css('div.list_text', wait_time=1)"
   ],
   "id": "74d92c495ba4c500",
   "outputs": [
    {
     "data": {
      "text/plain": [
       "True"
      ]
     },
     "execution_count": 6,
     "metadata": {},
     "output_type": "execute_result"
    }
   ],
   "execution_count": 6
  },
  {
   "metadata": {},
   "cell_type": "markdown",
   "source": [
    "### Step 2: Scrape the Website\n",
    "\n",
    "Create a Beautiful Soup object and use it to extract text elements from the website."
   ],
   "id": "d4d82e4abef3239e"
  },
  {
   "metadata": {
    "ExecuteTime": {
     "end_time": "2024-07-25T15:50:01.293939Z",
     "start_time": "2024-07-25T15:50:01.273574Z"
    }
   },
   "cell_type": "code",
   "source": [
    "# Scrape the website\n",
    "html = browser.html\n",
    "\n",
    "# Create a BeautifulSoup object from the scraped HTML\n",
    "soup = BeautifulSoup(html, 'html.parser')"
   ],
   "id": "b5208b25a6f21489",
   "outputs": [],
   "execution_count": 7
  },
  {
   "metadata": {
    "ExecuteTime": {
     "end_time": "2024-07-25T15:50:04.440656Z",
     "start_time": "2024-07-25T15:50:04.436295Z"
    }
   },
   "cell_type": "code",
   "source": [
    "# Extract all the text elements\n",
    "text_elements = soup.find_all('div', id='news')"
   ],
   "id": "f96e0bc8c7e816b4",
   "outputs": [],
   "execution_count": 8
  },
  {
   "metadata": {},
   "cell_type": "markdown",
   "source": [
    "### Step 3: Store the Results\n",
    "\n",
    "Extract the titles and preview text of the news articles that you scraped. Store the scraping results in Python data structures as follows:\n",
    "\n",
    "* Store each title-and-preview pair in a Python dictionary. And, give each dictionary two keys: `title` and `preview`. An example is the following:\n",
    "\n",
    "  ```python\n",
    "  {'title': \"NASA's MAVEN Observes Martian Light Show Caused by Major Solar Storm\", \n",
    "   'preview': \"For the first time in its eight years orbiting Mars, NASA’s MAVEN mission witnessed two different types of ultraviolet aurorae simultaneously, the result of solar storms that began on Aug. 27.\"\n",
    "  }\n",
    "  ```\n",
    "\n",
    "* Store all the dictionaries in a Python list.\n",
    "\n",
    "* Print the list in your notebook."
   ],
   "id": "8b5edc748d1bda80"
  },
  {
   "metadata": {
    "ExecuteTime": {
     "end_time": "2024-07-25T15:50:10.227288Z",
     "start_time": "2024-07-25T15:50:10.223356Z"
    }
   },
   "cell_type": "code",
   "source": [
    "# Create an empty list to store the dictionaries\n",
    "news_summarys = []"
   ],
   "id": "a124e34e3dcfb0a6",
   "outputs": [],
   "execution_count": 9
  },
  {
   "metadata": {
    "ExecuteTime": {
     "end_time": "2024-07-25T15:50:13.189060Z",
     "start_time": "2024-07-25T15:50:13.182455Z"
    }
   },
   "cell_type": "code",
   "source": [
    "# Loop through the text elements\n",
    "# Extract the title and preview text from the elements\n",
    "# Store each title and preview pair in a dictionary\n",
    "# Add the dictionary to the list\n",
    "for element in text_elements:\n",
    "    title_elems = element.find_all('div', class_='content_title')\n",
    "    preview_elems = element.find_all('div', class_='article_teaser_body')\n",
    "    for title_elem, preview_elem in zip(title_elems, preview_elems):\n",
    "        news_dict = {\n",
    "            'title': title_elem.text.strip(),\n",
    "            'preview': preview_elem.text.strip()\n",
    "        }\n",
    "        news_summarys.append(news_dict)"
   ],
   "id": "d3d65e8ea187dddd",
   "outputs": [],
   "execution_count": 10
  },
  {
   "metadata": {
    "ExecuteTime": {
     "end_time": "2024-07-25T15:50:15.934147Z",
     "start_time": "2024-07-25T15:50:15.929041Z"
    }
   },
   "cell_type": "code",
   "source": [
    "# Print the list to confirm success\n",
    "news_summarys"
   ],
   "id": "66f3abb7e5aadbc4",
   "outputs": [
    {
     "data": {
      "text/plain": [
       "[{'title': \"NASA's MAVEN Observes Martian Light Show Caused by Major Solar Storm\",\n",
       "  'preview': 'For the first time in its eight years orbiting Mars, NASA’s MAVEN mission witnessed two different types of ultraviolet aurorae simultaneously, the result of solar storms that began on Aug. 27.'},\n",
       " {'title': \"NASA Prepares to Say 'Farewell' to InSight Spacecraft\",\n",
       "  'preview': 'A closer look at what goes into wrapping up the mission as the spacecraft’s power supply continues to dwindle.'},\n",
       " {'title': 'NASA and ESA Agree on Next Steps to Return Mars Samples to Earth',\n",
       "  'preview': 'The agency’s Perseverance rover will establish the first sample depot on Mars.'},\n",
       " {'title': \"NASA's InSight Lander Detects Stunning Meteoroid Impact on Mars\",\n",
       "  'preview': 'The agency’s lander felt the ground shake during the impact while cameras aboard the Mars Reconnaissance Orbiter spotted the yawning new crater from space.'},\n",
       " {'title': 'NASA To Host Briefing on InSight, Mars Reconnaissance Orbiter Findings',\n",
       "  'preview': 'Scientists from two Mars missions will discuss how they combined images and data for a major finding on the Red Planet.'},\n",
       " {'title': 'Why NASA Is Trying To Crash Land on Mars',\n",
       "  'preview': 'Like a car’s crumple zone, the experimental SHIELD lander is designed to absorb a hard impact.'},\n",
       " {'title': 'Curiosity Mars Rover Reaches Long-Awaited Salty Region',\n",
       "  'preview': 'After years of climbing, the Mars rover has arrived at a special region believed to have formed as Mars’ climate was drying.'},\n",
       " {'title': 'Mars Mission Shields Up for Tests',\n",
       "  'preview': 'Protecting Mars Sample Return spacecraft from micrometeorites requires high-caliber work.'},\n",
       " {'title': \"NASA's InSight Waits Out Dust Storm\",\n",
       "  'preview': 'InSight’s team is taking steps to help the solar-powered lander continue operating for as long as possible.'},\n",
       " {'title': \"NASA's InSight 'Hears' Its First Meteoroid Impacts on Mars\",\n",
       "  'preview': 'The Mars lander’s seismometer has picked up vibrations from four separate impacts in the past two years.'},\n",
       " {'title': \"NASA's Perseverance Rover Investigates Geologically Rich Mars Terrain\",\n",
       "  'preview': 'The latest findings provide greater detail on a region of the Red Planet that has a watery past and is yielding promising samples for the NASA-ESA Mars Sample Return campaign.'},\n",
       " {'title': 'NASA to Host Briefing on Perseverance Mars Rover Mission Operations',\n",
       "  'preview': 'Members of the mission will discuss the rover’s activities as it gathers samples in an ancient river delta.'},\n",
       " {'title': \"NASA's Perseverance Makes New Discoveries in Mars' Jezero Crater\",\n",
       "  'preview': 'The rover found that Jezero Crater’s floor is made up of volcanic rocks that have interacted with water.'},\n",
       " {'title': \"10 Years Since Landing, NASA's Curiosity Mars Rover Still Has Drive\",\n",
       "  'preview': 'Despite signs of wear, the intrepid spacecraft is about to start an exciting new chapter of its mission as it climbs a Martian mountain.'},\n",
       " {'title': \"SAM's Top 5 Discoveries Aboard NASA's Curiosity Rover at Mars\",\n",
       "  'preview': '“Selfie” of the Curiosity rover with inset showing the SAM instrument prior to installation on the rover.'}]"
      ]
     },
     "execution_count": 11,
     "metadata": {},
     "output_type": "execute_result"
    }
   ],
   "execution_count": 11
  },
  {
   "metadata": {
    "ExecuteTime": {
     "end_time": "2024-07-25T16:01:13.136044Z",
     "start_time": "2024-07-25T16:01:13.131951Z"
    }
   },
   "cell_type": "code",
   "source": [
    "# Set the save file path\n",
    "json_file_path = './Outputs-Data/mars_news_summary.json'\n",
    "\n",
    "# Export data into a json file\n",
    "with open(json_file_path, 'w') as json_file:\n",
    "    json.dump(news_summarys, json_file, indent=4)\n",
    "\n",
    "print(f\"Done. The file path is {json_file_path}.\")"
   ],
   "id": "42cca0aeb51619c4",
   "outputs": [
    {
     "name": "stdout",
     "output_type": "stream",
     "text": [
      "Done. The file path is ./Outputs-Data/mars_news_summary.json.\n"
     ]
    }
   ],
   "execution_count": 13
  },
  {
   "metadata": {
    "ExecuteTime": {
     "end_time": "2024-07-25T00:06:09.307892Z",
     "start_time": "2024-07-25T00:06:09.109968Z"
    }
   },
   "cell_type": "code",
   "source": [
    "# Quit your browsing session\n",
    "browser.quit()"
   ],
   "id": "3774620090096cf7",
   "outputs": [],
   "execution_count": 22
  }
 ],
 "metadata": {
  "kernelspec": {
   "display_name": "Python 3",
   "language": "python",
   "name": "python3"
  },
  "language_info": {
   "codemirror_mode": {
    "name": "ipython",
    "version": 2
   },
   "file_extension": ".py",
   "mimetype": "text/x-python",
   "name": "python",
   "nbconvert_exporter": "python",
   "pygments_lexer": "ipython2",
   "version": "2.7.6"
  }
 },
 "nbformat": 4,
 "nbformat_minor": 5
}
